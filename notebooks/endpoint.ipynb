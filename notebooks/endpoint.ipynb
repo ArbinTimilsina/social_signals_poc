{
 "cells": [
  {
   "cell_type": "code",
   "execution_count": 1,
   "id": "c3bf73f7",
   "metadata": {},
   "outputs": [],
   "source": [
    "import os\n",
    "import boto3\n",
    "import sagemaker\n",
    "from sagemaker.huggingface import HuggingFacePredictor\n",
    "\n",
    "region_name = \"us-east-1\"\n",
    "aws_access_key = os.getenv(\"aws_access_key\")\n",
    "aws_secret_access_key = os.getenv(\"aws_secret_access_key\")\n",
    "\n",
    "def get_sagemaker_response(payload, endpoint_name):\n",
    "    sagemaker_session = sagemaker.Session(\n",
    "            boto3.session.Session(\n",
    "                region_name=region_name,\n",
    "                aws_access_key_id=aws_access_key,\n",
    "                aws_secret_access_key=aws_secret_access_key,\n",
    "            )\n",
    "        )\n",
    "\n",
    "    predictor = HuggingFacePredictor(\n",
    "        endpoint_name=endpoint_name,\n",
    "        sagemaker_session=sagemaker_session\n",
    "    )\n",
    "    try:\n",
    "        output = predictor.predict(payload)\n",
    "        return output\n",
    "    except Exception:\n",
    "        print(f\"Could not get SageMaker prediction for endpoint {endpoint_name}\")"
   ]
  },
  {
   "cell_type": "code",
   "execution_count": 2,
   "id": "93d46b13",
   "metadata": {},
   "outputs": [],
   "source": [
    "def get_ner(text):\n",
    "    payload = {\"inputs\": text, \"parameters\": {\"aggregation_strategy\": \"simple\"}, \"options\": {\"wait_for_model\": True}}\n",
    "    endpoint_name = \"ss-ner-bert-base-2023-06-06-19-36-28-904\"\n",
    "    output = get_sagemaker_response(payload, endpoint_name)\n",
    "    \n",
    "    return output"
   ]
  },
  {
   "cell_type": "code",
   "execution_count": 3,
   "id": "4507a23e",
   "metadata": {},
   "outputs": [
    {
     "name": "stdout",
     "output_type": "stream",
     "text": [
      "[{'entity_group': 'PER', 'score': 0.999672532081604, 'word': 'Donald Trump', 'start': 0, 'end': 12}, {'entity_group': 'PER', 'score': 0.9438504576683044, 'word': 'Joe Biden', 'start': 17, 'end': 26}, {'entity_group': 'LOC', 'score': 0.9992272853851318, 'word': 'Washington D. C', 'start': 40, 'end': 54}, {'entity_group': 'LOC', 'score': 0.9932042360305786, 'word': 'Malden', 'start': 63, 'end': 69}, {'entity_group': 'LOC', 'score': 0.9975988268852234, 'word': 'MA', 'start': 71, 'end': 73}]\n"
     ]
    }
   ],
   "source": [
    "text = \"Donald Trump and Joe Biden are going to Washington D.C through Malden, MA.\"\n",
    "output = get_ner(text)\n",
    "print(output)"
   ]
  },
  {
   "cell_type": "code",
   "execution_count": 9,
   "id": "e3667d87",
   "metadata": {},
   "outputs": [],
   "source": [
    "def get_emotion(text):\n",
    "    payload = {\"inputs\": text, \"options\": {\"wait_for_model\": True}}\n",
    "    endpoint_name = \"ss-emotion-distilroberta-base-2023-06-06-20-55-21-949\"\n",
    "    output = get_sagemaker_response(payload, endpoint_name)\n",
    "    \n",
    "    return output"
   ]
  },
  {
   "cell_type": "code",
   "execution_count": 10,
   "id": "a11c2bfc",
   "metadata": {},
   "outputs": [
    {
     "name": "stdout",
     "output_type": "stream",
     "text": [
      "[{'label': 'sadness', 'score': 0.7001569271087646}]\n"
     ]
    }
   ],
   "source": [
    "text = \"I am feeling happy, sad, and mad\"\n",
    "output = get_emotion(text)\n",
    "print(output)"
   ]
  },
  {
   "cell_type": "code",
   "execution_count": 50,
   "id": "b1c1f919",
   "metadata": {},
   "outputs": [],
   "source": [
    "CATEGORIES = [\n",
    "    \"Politics\",\n",
    "    \"Science\",\n",
    "    \"Technology\",\n",
    "    \"Sports\",\n",
    "    \"Entertainment\",\n",
    "    \"Education\",\n",
    "    \"Health\",\n",
    "    \"Finance\",\n",
    "    \"Miscellaneous\",\n",
    "]\n",
    "\n",
    "def get_classification(text):\n",
    "    payload = {\"inputs\": text, \"parameters\": {\"candidate_labels\": CATEGORIES}, \"options\": {\"wait_for_model\": True}}\n",
    "\n",
    "    endpoint_name = \"ss-catogery-bart-mnli-2023-06-06-22-17-10-558\"\n",
    "\n",
    "    output = get_sagemaker_response(payload, endpoint_name)    \n",
    "    return output"
   ]
  },
  {
   "cell_type": "code",
   "execution_count": 54,
   "id": "d7e137a1",
   "metadata": {},
   "outputs": [
    {
     "name": "stdout",
     "output_type": "stream",
     "text": [
      "{'sequence': 'Donald Trump and Joe Biden are going to Washington D.C through Malden, MA.', 'labels': ['Politics', 'Miscellaneous', 'Finance', 'Technology', 'Sports', 'Science', 'Education', 'Entertainment', 'Health'], 'scores': [0.9922653436660767, 0.0020710390526801348, 0.001158853410743177, 0.0010944470996037126, 0.0010588832665234804, 0.0009416055982001126, 0.0007338097784668207, 0.0005626939819194376, 0.00011329226254019886]}\n"
     ]
    }
   ],
   "source": [
    "text = \"Donald Trump and Joe Biden are going to Washington D.C through Malden, MA.\"\n",
    "output = get_classification(text)\n",
    "print(output)"
   ]
  },
  {
   "cell_type": "code",
   "execution_count": null,
   "id": "5775f3dd",
   "metadata": {},
   "outputs": [],
   "source": []
  }
 ],
 "metadata": {
  "kernelspec": {
   "display_name": "social-signals-env",
   "language": "python",
   "name": "social-signals-env"
  },
  "language_info": {
   "codemirror_mode": {
    "name": "ipython",
    "version": 3
   },
   "file_extension": ".py",
   "mimetype": "text/x-python",
   "name": "python",
   "nbconvert_exporter": "python",
   "pygments_lexer": "ipython3",
   "version": "3.8.16"
  }
 },
 "nbformat": 4,
 "nbformat_minor": 5
}
