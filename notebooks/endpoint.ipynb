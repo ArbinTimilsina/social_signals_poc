{
 "cells": [
  {
   "cell_type": "code",
   "execution_count": 5,
   "id": "c3bf73f7",
   "metadata": {},
   "outputs": [],
   "source": [
    "import os\n",
    "import boto3\n",
    "import sagemaker\n",
    "from sagemaker.huggingface import HuggingFacePredictor\n",
    "\n",
    "region_name = \"us-east-1\"\n",
    "aws_access_key = os.getenv(\"aws_access_key\")\n",
    "aws_secret_access_key = os.getenv(\"aws_secret_access_key\")\n",
    "\n",
    "def get_sagemaker_response(payload, endpoint_name):\n",
    "    sagemaker_session = sagemaker.Session(\n",
    "            boto3.session.Session(\n",
    "                region_name=region_name,\n",
    "                aws_access_key_id=aws_access_key,\n",
    "                aws_secret_access_key=aws_secret_access_key,\n",
    "            )\n",
    "        )\n",
    "\n",
    "    predictor = HuggingFacePredictor(\n",
    "        endpoint_name=endpoint_name,\n",
    "        sagemaker_session=sagemaker_session\n",
    "    )\n",
    "    \n",
    "    try:\n",
    "        output = predictor.predict(payload)\n",
    "    except Exception:\n",
    "        print(f\"Could not get SageMaker prediction for endpoint {endpoint_name}\")\n",
    "    return output"
   ]
  },
  {
   "cell_type": "code",
   "execution_count": 6,
   "id": "e3667d87",
   "metadata": {},
   "outputs": [],
   "source": [
    "def get_emotion(text):\n",
    "    payload = {\"inputs\": text, \"options\": {\"wait_for_model\": True}}\n",
    "    endpoint_name = \"social-signals-emotion-2023-06-03-05-35-02-830\"\n",
    "    output = get_sagemaker_response(payload, endpoint_name)\n",
    "    \n",
    "    return output"
   ]
  },
  {
   "cell_type": "code",
   "execution_count": 19,
   "id": "a11c2bfc",
   "metadata": {},
   "outputs": [
    {
     "name": "stdout",
     "output_type": "stream",
     "text": [
      "[{'label': 'sadness', 'score': 0.6923155784606934}]\n"
     ]
    }
   ],
   "source": [
    "text = \"I am feeling happy, sad, and mad\"\n",
    "output = get_emotion(text)\n",
    "print(output)"
   ]
  },
  {
   "cell_type": "code",
   "execution_count": 8,
   "id": "93d46b13",
   "metadata": {},
   "outputs": [],
   "source": [
    "def get_ner(text):\n",
    "    payload = {\"inputs\": text, \"options\": {\"wait_for_model\": True}}\n",
    "    endpoint_name = \"social-signals-ner-2023-06-04-03-05-56-782\"\n",
    "    output = get_sagemaker_response(payload, endpoint_name)\n",
    "    \n",
    "    return output"
   ]
  },
  {
   "cell_type": "code",
   "execution_count": 21,
   "id": "4507a23e",
   "metadata": {},
   "outputs": [
    {
     "name": "stdout",
     "output_type": "stream",
     "text": [
      "[]\n"
     ]
    }
   ],
   "source": [
    "text = \"My \"\n",
    "output = get_ner(text)\n",
    "print(output)"
   ]
  },
  {
   "cell_type": "code",
   "execution_count": null,
   "id": "b1c1f919",
   "metadata": {},
   "outputs": [],
   "source": [
    "CATEGORIES = [\n",
    "    \"Politics\",\n",
    "    \"Science\",\n",
    "    \"Technology\",\n",
    "    \"Sports\",\n",
    "    \"Entertainment\",\n",
    "    \"Education\",\n",
    "    \"Health\",\n",
    "    \"Finance\",\n",
    "    \"Miscellaneous\",\n",
    "]\n",
    "\n",
    "def get_classification(text):\n",
    "    payload = {\"inputs\": text, \"parameters\": {\"candidate_labels\": CATEGORIES}, \"options\": {\"wait_for_model\": True}}\n",
    "    endpoint_name = \"social-signals-ner-2023-06-04-03-05-56-782\"\n",
    "    output = get_sagemaker_response(payload, endpoint_name)\n",
    "    \n",
    "    return output"
   ]
  },
  {
   "cell_type": "code",
   "execution_count": null,
   "id": "d7e137a1",
   "metadata": {},
   "outputs": [],
   "source": [
    "text = \"My name is Clara and I live in Berkeley, California.\"\n",
    "output = get_ner(text)\n",
    "print(output)"
   ]
  }
 ],
 "metadata": {
  "kernelspec": {
   "display_name": "social-signals-env",
   "language": "python",
   "name": "social-signals-env"
  },
  "language_info": {
   "codemirror_mode": {
    "name": "ipython",
    "version": 3
   },
   "file_extension": ".py",
   "mimetype": "text/x-python",
   "name": "python",
   "nbconvert_exporter": "python",
   "pygments_lexer": "ipython3",
   "version": "3.8.16"
  }
 },
 "nbformat": 4,
 "nbformat_minor": 5
}
