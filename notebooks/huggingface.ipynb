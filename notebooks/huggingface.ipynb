{
 "cells": [
  {
   "cell_type": "code",
   "execution_count": 1,
   "id": "72a1a39b",
   "metadata": {},
   "outputs": [],
   "source": [
    "CATEGORIES = [\n",
    "    \"Politics\",\n",
    "    \"Science\",\n",
    "    \"Technology\",\n",
    "    \"Sports\",\n",
    "    \"Entertainment\",\n",
    "    \"Education\",\n",
    "    \"Health\",\n",
    "    \"Finance\",\n",
    "    \"Miscellaneous\",\n",
    "]"
   ]
  },
  {
   "cell_type": "code",
   "execution_count": 6,
   "id": "390e7163",
   "metadata": {},
   "outputs": [],
   "source": [
    "import os\n",
    "\n",
    "import requests\n",
    "\n",
    "HUGGINGFACE_TOKEN = os.getenv(\"huggingface_token\")\n",
    "\n",
    "NER_MODEL_ID = \"dslim/bert-large-NER\"\n",
    "EMOTION_MODEL_ID = \"j-hartmann/emotion-english-distilroberta-base\"\n",
    "ZERO_SHOT_MODEL_ID = \"facebook/bart-large-mnli\"\n",
    "\n",
    "def get_huggingface_response(text, model_id):\n",
    "    api_url = f\"https://api-inference.huggingface.co/models/{model_id}\"\n",
    "    headers = {\"Authorization\": f\"Bearer {HUGGINGFACE_TOKEN}\"}\n",
    "\n",
    "    payload = {\"inputs\": text, \"options\": {\"wait_for_model\": True}}\n",
    "    response = requests.post(api_url, headers=headers, json=payload)\n",
    "\n",
    "    try:\n",
    "        response = response.json()\n",
    "    except Exception:\n",
    "        print(f\"Could not get Huggingface response for {model_id}\")\n",
    "        return\n",
    "    return response\n",
    "\n",
    "\n",
    "def get_huggingface_zero_shot_classificaiton_resonse(sequence_to_classify):\n",
    "    api_url = f\"https://api-inference.huggingface.co/models/{ZERO_SHOT_MODEL_ID}\"\n",
    "    headers = {\"Authorization\": f\"Bearer {HUGGINGFACE_TOKEN}\"}\n",
    "\n",
    "    payload = {\"inputs\": text, \"parameters\": {\"candidate_labels\": CATEGORIES}, \"options\": {\"wait_for_model\": True}}\n",
    "    response = requests.post(api_url, headers=headers, json=payload)\n",
    "    print(response)\n",
    "    print(response.ok)\n",
    "    try:\n",
    "        response = response.json()\n",
    "    except Exception:\n",
    "        print(f\"Could not get Huggingface response for {model_id}\")\n",
    "        return\n",
    "    return response"
   ]
  },
  {
   "cell_type": "code",
   "execution_count": 7,
   "id": "c34d1f67",
   "metadata": {},
   "outputs": [
    {
     "name": "stdout",
     "output_type": "stream",
     "text": [
      "[]\n"
     ]
    }
   ],
   "source": [
    "text = \"This is a test\"\n",
    "output = get_huggingface_response(text, NER_MODEL_ID)\n",
    "print(output)"
   ]
  },
  {
   "cell_type": "code",
   "execution_count": null,
   "id": "92f80513",
   "metadata": {},
   "outputs": [],
   "source": []
  },
  {
   "cell_type": "code",
   "execution_count": null,
   "id": "47305194",
   "metadata": {},
   "outputs": [],
   "source": []
  }
 ],
 "metadata": {
  "kernelspec": {
   "display_name": "social-signals-env",
   "language": "python",
   "name": "social-signals-env"
  },
  "language_info": {
   "codemirror_mode": {
    "name": "ipython",
    "version": 3
   },
   "file_extension": ".py",
   "mimetype": "text/x-python",
   "name": "python",
   "nbconvert_exporter": "python",
   "pygments_lexer": "ipython3",
   "version": "3.8.16"
  }
 },
 "nbformat": 4,
 "nbformat_minor": 5
}
