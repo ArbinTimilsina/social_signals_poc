{
 "cells": [
  {
   "cell_type": "code",
   "execution_count": 1,
   "id": "390e7163",
   "metadata": {},
   "outputs": [],
   "source": [
    "import os\n",
    "\n",
    "import requests\n",
    "\n",
    "HUGGINGFACE_TOKEN = os.getenv(\"huggingface_token\")\n",
    "\n",
    "def get_huggingface_response(text, model_id):\n",
    "    api_url = f\"https://api-inference.huggingface.co/models/{model_id}\"\n",
    "    headers = {\"Authorization\": f\"Bearer {HUGGINGFACE_TOKEN}\"}\n",
    "\n",
    "    payload = {\"inputs\": text, \"options\": {\"wait_for_model\": True}}\n",
    "    response = requests.post(api_url, headers=headers, json=payload)\n",
    "\n",
    "    try:\n",
    "        response = response.json()\n",
    "    except Exception:\n",
    "        print(f\"Could not get Huggingface response for {model_id}\")\n",
    "        return\n",
    "    return response"
   ]
  },
  {
   "cell_type": "code",
   "execution_count": 2,
   "id": "b7e37349",
   "metadata": {},
   "outputs": [],
   "source": [
    "text = \"Donald Trump and Joe Biden are going to Washington D.C through Malden, MA.\""
   ]
  },
  {
   "cell_type": "code",
   "execution_count": 3,
   "id": "c34d1f67",
   "metadata": {},
   "outputs": [
    {
     "name": "stdout",
     "output_type": "stream",
     "text": [
      "[{'entity_group': 'PER', 'score': 0.9934488534927368, 'word': 'Donald Trump', 'start': 0, 'end': 12}, {'entity_group': 'PER', 'score': 0.9847009778022766, 'word': 'Joe Biden', 'start': 17, 'end': 26}, {'entity_group': 'LOC', 'score': 0.995177686214447, 'word': 'Washington D. C', 'start': 40, 'end': 54}, {'entity_group': 'LOC', 'score': 0.9856926798820496, 'word': 'Malden', 'start': 63, 'end': 69}, {'entity_group': 'LOC', 'score': 0.9987767338752747, 'word': 'MA', 'start': 71, 'end': 73}]\n"
     ]
    }
   ],
   "source": [
    "model_id = \"dslim/bert-large-NER\"\n",
    "output = get_huggingface_response(text, model_id)\n",
    "print(output)"
   ]
  },
  {
   "cell_type": "code",
   "execution_count": 10,
   "id": "92f80513",
   "metadata": {},
   "outputs": [
    {
     "name": "stdout",
     "output_type": "stream",
     "text": [
      "{'error': \"Could not load model dslim/bert-base-NER with any of the following classes: (<class 'transformers.models.bert.modeling_bert.BertForTokenClassification'>, <class 'transformers.models.bert.modeling_tf_bert.TFBertForTokenClassification'>).\"}\n"
     ]
    }
   ],
   "source": [
    "model_id = \"dslim/bert-base-NER\"\n",
    "output = get_huggingface_response(text, model_id)\n",
    "print(output)"
   ]
  },
  {
   "cell_type": "code",
   "execution_count": 9,
   "id": "e9eb5ce3",
   "metadata": {},
   "outputs": [
    {
     "name": "stdout",
     "output_type": "stream",
     "text": [
      "[{'entity_group': 'PER', 'score': 0.9965154528617859, 'word': 'donald trump', 'start': 0, 'end': 12}, {'entity_group': 'PER', 'score': 0.9947359561920166, 'word': 'joe biden', 'start': 17, 'end': 26}, {'entity_group': 'LOC', 'score': 0.978792667388916, 'word': 'washington d. c', 'start': 40, 'end': 54}, {'entity_group': 'LOC', 'score': 0.9939199686050415, 'word': 'malden', 'start': 63, 'end': 69}, {'entity_group': 'LOC', 'score': 0.9916924238204956, 'word': 'ma', 'start': 71, 'end': 73}]\n"
     ]
    }
   ],
   "source": [
    "model_id = \"dslim/bert-base-NER-uncased\"\n",
    "output = get_huggingface_response(text, model_id)\n",
    "print(output)"
   ]
  },
  {
   "cell_type": "code",
   "execution_count": 7,
   "id": "62cfadd4",
   "metadata": {},
   "outputs": [
    {
     "name": "stdout",
     "output_type": "stream",
     "text": [
      "[{'entity_group': 'PER', 'word': 'Donald Trump', 'start': 0, 'end': 12, 'score': 0.9989845454692841}, {'entity_group': 'PER', 'word': 'Joe Biden', 'start': 17, 'end': 26, 'score': 0.9993116855621338}, {'entity_group': 'LOC', 'word': 'Washington D.C', 'start': 40, 'end': 54, 'score': 0.8070894181728363}, {'entity_group': 'LOC', 'word': 'Malden', 'start': 63, 'end': 69, 'score': 0.9976208806037903}, {'entity_group': 'LOC', 'word': 'MA', 'start': 71, 'end': 73, 'score': 0.9994223117828369}]\n"
     ]
    }
   ],
   "source": [
    "model_id = \"flair/ner-english-fast\"\n",
    "output = get_huggingface_response(text, model_id)\n",
    "print(output)"
   ]
  },
  {
   "cell_type": "code",
   "execution_count": 8,
   "id": "b2983aeb",
   "metadata": {},
   "outputs": [
    {
     "name": "stdout",
     "output_type": "stream",
     "text": [
      "[{'entity_group': 'PERSON', 'word': 'Donald Trump', 'start': 0, 'end': 12, 'score': 0.9999979734420776}, {'entity_group': 'PERSON', 'word': 'Joe Biden', 'start': 17, 'end': 26, 'score': 0.9999966621398926}, {'entity_group': 'GPE', 'word': 'Washington D.C', 'start': 40, 'end': 54, 'score': 0.9999919533729553}, {'entity_group': 'GPE', 'word': 'Malden', 'start': 63, 'end': 69, 'score': 0.9999920129776001}, {'entity_group': 'GPE', 'word': 'MA', 'start': 71, 'end': 73, 'score': 0.999990701675415}]\n"
     ]
    }
   ],
   "source": [
    "model_id = \"flair/ner-english-ontonotes-large\"\n",
    "output = get_huggingface_response(text, model_id)\n",
    "print(output)"
   ]
  },
  {
   "cell_type": "code",
   "execution_count": 12,
   "id": "45518f82",
   "metadata": {},
   "outputs": [
    {
     "name": "stdout",
     "output_type": "stream",
     "text": [
      "{'error': \"Could not load model dbmdz/bert-large-cased-finetuned-conll03-english with any of the following classes: (<class 'transformers.models.bert.modeling_bert.BertForTokenClassification'>, <class 'transformers.models.bert.modeling_tf_bert.TFBertForTokenClassification'>).\"}\n"
     ]
    }
   ],
   "source": [
    "model_id = \"dbmdz/bert-large-cased-finetuned-conll03-english\"\n",
    "output = get_huggingface_response(text, model_id)\n",
    "print(output)"
   ]
  },
  {
   "cell_type": "code",
   "execution_count": null,
   "id": "6e052ed9",
   "metadata": {},
   "outputs": [],
   "source": []
  }
 ],
 "metadata": {
  "kernelspec": {
   "display_name": "social-signals-env",
   "language": "python",
   "name": "social-signals-env"
  },
  "language_info": {
   "codemirror_mode": {
    "name": "ipython",
    "version": 3
   },
   "file_extension": ".py",
   "mimetype": "text/x-python",
   "name": "python",
   "nbconvert_exporter": "python",
   "pygments_lexer": "ipython3",
   "version": "3.8.16"
  }
 },
 "nbformat": 4,
 "nbformat_minor": 5
}
