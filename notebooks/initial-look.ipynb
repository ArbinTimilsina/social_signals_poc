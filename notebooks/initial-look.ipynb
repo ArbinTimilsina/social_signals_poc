{
 "cells": [
  {
   "cell_type": "code",
   "execution_count": 55,
   "id": "e1072369-2d20-4fea-b42b-22521f0a3ec1",
   "metadata": {},
   "outputs": [],
   "source": [
    "import pandas as pd"
   ]
  },
  {
   "cell_type": "code",
   "execution_count": 56,
   "id": "1e890243-e2ec-4b69-9d7c-234c5b1b02c4",
   "metadata": {},
   "outputs": [
    {
     "data": {
      "text/html": [
       "<div>\n",
       "<style scoped>\n",
       "    .dataframe tbody tr th:only-of-type {\n",
       "        vertical-align: middle;\n",
       "    }\n",
       "\n",
       "    .dataframe tbody tr th {\n",
       "        vertical-align: top;\n",
       "    }\n",
       "\n",
       "    .dataframe thead th {\n",
       "        text-align: right;\n",
       "    }\n",
       "</style>\n",
       "<table border=\"1\" class=\"dataframe\">\n",
       "  <thead>\n",
       "    <tr style=\"text-align: right;\">\n",
       "      <th></th>\n",
       "      <th>Unnamed: 0</th>\n",
       "      <th>submission_id</th>\n",
       "      <th>submission_url</th>\n",
       "      <th>submission_subreddit</th>\n",
       "      <th>submission_title</th>\n",
       "      <th>submission_score</th>\n",
       "      <th>submission_num_comments</th>\n",
       "      <th>entities</th>\n",
       "      <th>title_sentiment_prediction</th>\n",
       "      <th>title_sentiment_score</th>\n",
       "      <th>title_emotion_prediction</th>\n",
       "      <th>title_emotion_score</th>\n",
       "      <th>title_esg_categories_prediction</th>\n",
       "      <th>title_esg_categories_score</th>\n",
       "      <th>comments</th>\n",
       "      <th>comments_emotion_counter</th>\n",
       "    </tr>\n",
       "  </thead>\n",
       "  <tbody>\n",
       "    <tr>\n",
       "      <th>0</th>\n",
       "      <td>0</td>\n",
       "      <td>13hl6of</td>\n",
       "      <td>https://www.news.com.au/lifestyle/real-life/ne...</td>\n",
       "      <td>news</td>\n",
       "      <td>Peru to send Dutch killer Joran van der Sloot ...</td>\n",
       "      <td>16420</td>\n",
       "      <td>570</td>\n",
       "      <td>{\"location\": [\"Peru\", \"US\"], \"person\": [\"Joran...</td>\n",
       "      <td>neutral</td>\n",
       "      <td>0.75</td>\n",
       "      <td>anger</td>\n",
       "      <td>0.41</td>\n",
       "      <td>Community Relations</td>\n",
       "      <td>0.92</td>\n",
       "      <td>About time…. Deserves a harsh sentence since h...</td>\n",
       "      <td>{\"neutral\": 1}</td>\n",
       "    </tr>\n",
       "    <tr>\n",
       "      <th>1</th>\n",
       "      <td>1</td>\n",
       "      <td>13htcrm</td>\n",
       "      <td>https://www.whio.com/news/local/ohio-catholic-...</td>\n",
       "      <td>news</td>\n",
       "      <td>Ohio Catholic priest convicted of sex traffick...</td>\n",
       "      <td>12340</td>\n",
       "      <td>958</td>\n",
       "      <td>{\"location\": [\"Ohio\"]}</td>\n",
       "      <td>negative</td>\n",
       "      <td>0.73</td>\n",
       "      <td>disgust</td>\n",
       "      <td>0.90</td>\n",
       "      <td>Community Relations</td>\n",
       "      <td>0.98</td>\n",
       "      <td>&gt;\\tZacharias then began to groom the boys for ...</td>\n",
       "      <td>{\"neutral\": 2}</td>\n",
       "    </tr>\n",
       "    <tr>\n",
       "      <th>2</th>\n",
       "      <td>2</td>\n",
       "      <td>13ibgc1</td>\n",
       "      <td>https://www.cnn.com/2023/05/15/us/florida-teac...</td>\n",
       "      <td>news</td>\n",
       "      <td>Florida teacher says she is under investigatio...</td>\n",
       "      <td>11610</td>\n",
       "      <td>1037</td>\n",
       "      <td>{\"location\": [\"Florida\"]}</td>\n",
       "      <td>negative</td>\n",
       "      <td>0.71</td>\n",
       "      <td>sadness</td>\n",
       "      <td>0.33</td>\n",
       "      <td>Community Relations</td>\n",
       "      <td>0.97</td>\n",
       "      <td>So all parents signed a permission slip. Then ...</td>\n",
       "      <td>{\"fear\": 1}</td>\n",
       "    </tr>\n",
       "    <tr>\n",
       "      <th>3</th>\n",
       "      <td>3</td>\n",
       "      <td>13i6ypd</td>\n",
       "      <td>https://abcnews.go.com/International/wireStory...</td>\n",
       "      <td>news</td>\n",
       "      <td>Serbia: Guns, grenades and rocket launchers am...</td>\n",
       "      <td>4326</td>\n",
       "      <td>507</td>\n",
       "      <td>{\"location\": [\"Serbia\"]}</td>\n",
       "      <td>negative</td>\n",
       "      <td>0.81</td>\n",
       "      <td>anger</td>\n",
       "      <td>0.37</td>\n",
       "      <td>Natural Capital</td>\n",
       "      <td>0.44</td>\n",
       "      <td>So a country of almost 7 million people with a...</td>\n",
       "      <td>{\"fear\": 1, \"sadness\": 1}</td>\n",
       "    </tr>\n",
       "    <tr>\n",
       "      <th>4</th>\n",
       "      <td>4</td>\n",
       "      <td>13hxhtr</td>\n",
       "      <td>https://www.independent.co.uk/news/world/ameri...</td>\n",
       "      <td>news</td>\n",
       "      <td>Chilling footage shows white supremacist group...</td>\n",
       "      <td>3739</td>\n",
       "      <td>1076</td>\n",
       "      <td>{\"organization\": [\"Patriot Front\"], \"location\"...</td>\n",
       "      <td>negative</td>\n",
       "      <td>0.53</td>\n",
       "      <td>disgust</td>\n",
       "      <td>0.74</td>\n",
       "      <td>Climate Change</td>\n",
       "      <td>0.95</td>\n",
       "      <td>These people are so brave they wear clothing a...</td>\n",
       "      <td>{\"neutral\": 2, \"surprise\": 1, \"disgust\": 1}</td>\n",
       "    </tr>\n",
       "  </tbody>\n",
       "</table>\n",
       "</div>"
      ],
      "text/plain": [
       "   Unnamed: 0 submission_id   \n",
       "0           0       13hl6of  \\\n",
       "1           1       13htcrm   \n",
       "2           2       13ibgc1   \n",
       "3           3       13i6ypd   \n",
       "4           4       13hxhtr   \n",
       "\n",
       "                                      submission_url submission_subreddit   \n",
       "0  https://www.news.com.au/lifestyle/real-life/ne...                 news  \\\n",
       "1  https://www.whio.com/news/local/ohio-catholic-...                 news   \n",
       "2  https://www.cnn.com/2023/05/15/us/florida-teac...                 news   \n",
       "3  https://abcnews.go.com/International/wireStory...                 news   \n",
       "4  https://www.independent.co.uk/news/world/ameri...                 news   \n",
       "\n",
       "                                    submission_title  submission_score   \n",
       "0  Peru to send Dutch killer Joran van der Sloot ...             16420  \\\n",
       "1  Ohio Catholic priest convicted of sex traffick...             12340   \n",
       "2  Florida teacher says she is under investigatio...             11610   \n",
       "3  Serbia: Guns, grenades and rocket launchers am...              4326   \n",
       "4  Chilling footage shows white supremacist group...              3739   \n",
       "\n",
       "   submission_num_comments                                           entities   \n",
       "0                      570  {\"location\": [\"Peru\", \"US\"], \"person\": [\"Joran...  \\\n",
       "1                      958                             {\"location\": [\"Ohio\"]}   \n",
       "2                     1037                          {\"location\": [\"Florida\"]}   \n",
       "3                      507                           {\"location\": [\"Serbia\"]}   \n",
       "4                     1076  {\"organization\": [\"Patriot Front\"], \"location\"...   \n",
       "\n",
       "  title_sentiment_prediction  title_sentiment_score title_emotion_prediction   \n",
       "0                    neutral                   0.75                    anger  \\\n",
       "1                   negative                   0.73                  disgust   \n",
       "2                   negative                   0.71                  sadness   \n",
       "3                   negative                   0.81                    anger   \n",
       "4                   negative                   0.53                  disgust   \n",
       "\n",
       "   title_emotion_score title_esg_categories_prediction   \n",
       "0                 0.41             Community Relations  \\\n",
       "1                 0.90             Community Relations   \n",
       "2                 0.33             Community Relations   \n",
       "3                 0.37                 Natural Capital   \n",
       "4                 0.74                  Climate Change   \n",
       "\n",
       "   title_esg_categories_score   \n",
       "0                        0.92  \\\n",
       "1                        0.98   \n",
       "2                        0.97   \n",
       "3                        0.44   \n",
       "4                        0.95   \n",
       "\n",
       "                                            comments   \n",
       "0  About time…. Deserves a harsh sentence since h...  \\\n",
       "1  >\\tZacharias then began to groom the boys for ...   \n",
       "2  So all parents signed a permission slip. Then ...   \n",
       "3  So a country of almost 7 million people with a...   \n",
       "4  These people are so brave they wear clothing a...   \n",
       "\n",
       "                      comments_emotion_counter  \n",
       "0                               {\"neutral\": 1}  \n",
       "1                               {\"neutral\": 2}  \n",
       "2                                  {\"fear\": 1}  \n",
       "3                    {\"fear\": 1, \"sadness\": 1}  \n",
       "4  {\"neutral\": 2, \"surprise\": 1, \"disgust\": 1}  "
      ]
     },
     "execution_count": 56,
     "metadata": {},
     "output_type": "execute_result"
    }
   ],
   "source": [
    "df = pd.read_csv(\"s3://social-signals-dev-data/year=2023/month=05/day=15/reddit.csv\")\n",
    "df.head()"
   ]
  },
  {
   "cell_type": "code",
   "execution_count": 57,
   "id": "fca0a4a9-b846-41b3-a5c6-c41520d14ba4",
   "metadata": {},
   "outputs": [
    {
     "data": {
      "text/plain": [
       "Unnamed: 0                                                                         0\n",
       "submission_id                                                                13hl6of\n",
       "submission_url                     https://www.news.com.au/lifestyle/real-life/ne...\n",
       "submission_subreddit                                                            news\n",
       "submission_title                   Peru to send Dutch killer Joran van der Sloot ...\n",
       "submission_score                                                               16420\n",
       "submission_num_comments                                                          570\n",
       "entities                           {\"location\": [\"Peru\", \"US\"], \"person\": [\"Joran...\n",
       "title_sentiment_prediction                                                   neutral\n",
       "title_sentiment_score                                                           0.75\n",
       "title_emotion_prediction                                                       anger\n",
       "title_emotion_score                                                             0.41\n",
       "title_esg_categories_prediction                                  Community Relations\n",
       "title_esg_categories_score                                                      0.92\n",
       "comments                           About time…. Deserves a harsh sentence since h...\n",
       "comments_emotion_counter                                              {\"neutral\": 1}\n",
       "Name: 0, dtype: object"
      ]
     },
     "execution_count": 57,
     "metadata": {},
     "output_type": "execute_result"
    }
   ],
   "source": [
    "row = df.iloc[0]\n",
    "row"
   ]
  },
  {
   "cell_type": "code",
   "execution_count": 58,
   "id": "ef0ca8a0-1530-4214-9e99-4e417df113d9",
   "metadata": {},
   "outputs": [
    {
     "data": {
      "text/plain": [
       "'{\"location\": [\"Peru\", \"US\"], \"person\": [\"Joran van der Sloot\", \"Natalee Holloway\"]}'"
      ]
     },
     "execution_count": 58,
     "metadata": {},
     "output_type": "execute_result"
    }
   ],
   "source": [
    "entities = row[\"entities\"]\n",
    "entities"
   ]
  },
  {
   "cell_type": "code",
   "execution_count": 59,
   "id": "d9f75cbb-1380-4b64-bf4a-5f7ac0463ed9",
   "metadata": {},
   "outputs": [
    {
     "data": {
      "text/plain": [
       "{'location': ['Peru', 'US'],\n",
       " 'person': ['Joran van der Sloot', 'Natalee Holloway']}"
      ]
     },
     "execution_count": 59,
     "metadata": {},
     "output_type": "execute_result"
    }
   ],
   "source": [
    "import json\n",
    "\n",
    "res = json.loads(entities)\n",
    "res"
   ]
  },
  {
   "cell_type": "code",
   "execution_count": null,
   "id": "82eae160-7ecc-4815-ae9f-0975eb944aea",
   "metadata": {},
   "outputs": [],
   "source": []
  }
 ],
 "metadata": {
  "kernelspec": {
   "display_name": "Python 3 (ipykernel)",
   "language": "python",
   "name": "python3"
  },
  "language_info": {
   "codemirror_mode": {
    "name": "ipython",
    "version": 3
   },
   "file_extension": ".py",
   "mimetype": "text/x-python",
   "name": "python",
   "nbconvert_exporter": "python",
   "pygments_lexer": "ipython3",
   "version": "3.8.16"
  }
 },
 "nbformat": 4,
 "nbformat_minor": 5
}
