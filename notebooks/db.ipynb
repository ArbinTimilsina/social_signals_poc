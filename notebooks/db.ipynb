{
 "cells": [
  {
   "cell_type": "code",
   "execution_count": 1,
   "id": "9c41fdb0",
   "metadata": {},
   "outputs": [],
   "source": [
    "def get_db_creds():\n",
    "    redshift_creds = {\n",
    "        \"username\": os.getenv(\"db_username\"),\n",
    "        \"password\": os.getenv(\"db_password\"),\n",
    "        \"host\": os.getenv(\"db_host\"),\n",
    "        \"port\": os.getenv(\"db_port\"),\n",
    "        \"name\": os.getenv(\"db_name\"),\n",
    "    }\n",
    "    return redshift_creds\n",
    "\n",
    "\n",
    "def get_engine():\n",
    "    redshift_creds = get_db_creds()\n",
    "\n",
    "    username = redshift_creds[\"username\"]\n",
    "    password = redshift_creds[\"password\"]\n",
    "    host = redshift_creds[\"host\"]\n",
    "    port = redshift_creds[\"port\"]\n",
    "    name = redshift_creds[\"name\"]\n",
    "    engine = f\"mysql+mysqlconnector://{username}:{password}@{host}:{port}/{name}\"\n",
    "\n",
    "    return engine"
   ]
  },
  {
   "cell_type": "code",
   "execution_count": 4,
   "id": "ff492fcf",
   "metadata": {},
   "outputs": [],
   "source": [
    "from sqlalchemy import create_engine\n",
    "\n",
    "db_df = pd.DataFrame(data=[db_data])\n",
    "engine = get_engine()\n",
    "connection = create_engine(engine, pool_pre_ping=True)\n",
    "\n",
    "db_df.to_sql(\n",
    "    REDSHIFT_TABLE_NAME,\n",
    "    connection,\n",
    "    schema=SCHEMA,\n",
    "    if_exists=IF_EXISTS,\n",
    "    index=False,\n",
    "    method=\"multi\",\n",
    ")"
   ]
  },
  {
   "cell_type": "code",
   "execution_count": null,
   "id": "6f3c8ab7",
   "metadata": {},
   "outputs": [],
   "source": []
  }
 ],
 "metadata": {
  "kernelspec": {
   "display_name": "social-signals-env",
   "language": "python",
   "name": "social-signals-env"
  },
  "language_info": {
   "codemirror_mode": {
    "name": "ipython",
    "version": 3
   },
   "file_extension": ".py",
   "mimetype": "text/x-python",
   "name": "python",
   "nbconvert_exporter": "python",
   "pygments_lexer": "ipython3",
   "version": "3.8.16"
  }
 },
 "nbformat": 4,
 "nbformat_minor": 5
}
