{
 "cells": [
  {
   "cell_type": "code",
   "execution_count": 1,
   "id": "c2d3740f",
   "metadata": {},
   "outputs": [],
   "source": [
    "CATEGORIES = [\n",
    "    \"Politics\",\n",
    "    \"Science\",\n",
    "    \"Technology\",\n",
    "    \"Sports\",\n",
    "    \"Entertainment\",\n",
    "    \"Education\",\n",
    "    \"Health\",\n",
    "    \"Finance\",\n",
    "    \"Miscellaneous\",\n",
    "]"
   ]
  },
  {
   "cell_type": "code",
   "execution_count": 2,
   "id": "390e7163",
   "metadata": {},
   "outputs": [],
   "source": [
    "import os\n",
    "\n",
    "import requests\n",
    "\n",
    "HUGGINGFACE_TOKEN = os.getenv(\"huggingface_token\")\n",
    "\n",
    "def get_huggingface_response(text, model_id):\n",
    "    api_url = f\"https://api-inference.huggingface.co/models/{model_id}\"\n",
    "    headers = {\"Authorization\": f\"Bearer {HUGGINGFACE_TOKEN}\"}\n",
    "\n",
    "    payload = {\"inputs\": text, \"parameters\": {\"candidate_labels\": CATEGORIES}, \"options\": {\"wait_for_model\": True}}\n",
    "    response = requests.post(api_url, headers=headers, json=payload)\n",
    "\n",
    "    try:\n",
    "        response = response.json()\n",
    "    except Exception:\n",
    "        print(f\"Could not get Huggingface response for {model_id}\")\n",
    "        return\n",
    "    return response"
   ]
  },
  {
   "cell_type": "code",
   "execution_count": 3,
   "id": "b7e37349",
   "metadata": {},
   "outputs": [],
   "source": [
    "text = \"Donald Trump and Joe Biden are going to Washington D.C through Malden, MA.\""
   ]
  },
  {
   "cell_type": "code",
   "execution_count": 4,
   "id": "c34d1f67",
   "metadata": {},
   "outputs": [
    {
     "name": "stdout",
     "output_type": "stream",
     "text": [
      "{'sequence': 'Donald Trump and Joe Biden are going to Washington D.C through Malden, MA.', 'labels': ['Politics', 'Miscellaneous', 'Health', 'Education', 'Entertainment', 'Finance', 'Sports', 'Technology', 'Science'], 'scores': [0.5027845501899719, 0.15706567466259003, 0.06804241240024567, 0.06294357031583786, 0.05725174397230148, 0.046742282807826996, 0.04668600484728813, 0.03401689603924751, 0.024466881528496742]}\n"
     ]
    }
   ],
   "source": [
    "model_id = \"cross-encoder/nli-deberta-base\"\n",
    "output = get_huggingface_response(text, model_id)\n",
    "print(output)"
   ]
  },
  {
   "cell_type": "code",
   "execution_count": 5,
   "id": "56ff1c6b",
   "metadata": {},
   "outputs": [
    {
     "name": "stdout",
     "output_type": "stream",
     "text": [
      "{'sequence': 'Donald Trump and Joe Biden are going to Washington D.C through Malden, MA.', 'labels': ['Politics', 'Miscellaneous', 'Entertainment', 'Sports', 'Health', 'Technology', 'Science', 'Finance', 'Education'], 'scores': [0.5904466509819031, 0.17592141032218933, 0.10615317523479462, 0.049216534942388535, 0.04557259380817413, 0.01708010584115982, 0.0091579994186759, 0.004553224425762892, 0.0018982705660164356]}\n"
     ]
    }
   ],
   "source": [
    "model_id = \"cross-encoder/nli-deberta-v3-base\"\n",
    "output = get_huggingface_response(text, model_id)\n",
    "print(output)"
   ]
  },
  {
   "cell_type": "code",
   "execution_count": 6,
   "id": "92f80513",
   "metadata": {},
   "outputs": [
    {
     "name": "stdout",
     "output_type": "stream",
     "text": [
      "{'error': \"Could not load model typeform/distilbert-base-uncased-mnli with any of the following classes: (<class 'transformers.models.distilbert.modeling_distilbert.DistilBertForSequenceClassification'>, <class 'transformers.models.distilbert.modeling_tf_distilbert.TFDistilBertForSequenceClassification'>).\"}\n"
     ]
    }
   ],
   "source": [
    "model_id = \"typeform/distilbert-base-uncased-mnli\"\n",
    "output = get_huggingface_response(text, model_id)\n",
    "print(output)"
   ]
  },
  {
   "cell_type": "code",
   "execution_count": 7,
   "id": "e9eb5ce3",
   "metadata": {},
   "outputs": [
    {
     "name": "stdout",
     "output_type": "stream",
     "text": [
      "{'error': \"Could not load model facebook/bart-large-mnli with any of the following classes: (<class 'transformers.models.bart.modeling_bart.BartForSequenceClassification'>,).\"}\n"
     ]
    }
   ],
   "source": [
    "model_id = \"facebook/bart-large-mnli\"\n",
    "output = get_huggingface_response(text, model_id)\n",
    "print(output)"
   ]
  },
  {
   "cell_type": "code",
   "execution_count": 8,
   "id": "e118630f",
   "metadata": {},
   "outputs": [
    {
     "name": "stdout",
     "output_type": "stream",
     "text": [
      "{'sequence': 'Donald Trump and Joe Biden are going to Washington D.C through Malden, MA.', 'labels': ['Politics', 'Miscellaneous', 'Finance', 'Technology', 'Sports', 'Science', 'Education', 'Entertainment', 'Health'], 'scores': [0.9922657608985901, 0.0020706148352473974, 0.001158854109235108, 0.001094444072805345, 0.001058880821801722, 0.0009416450629942119, 0.0007338080322369933, 0.0005626934580504894, 0.00011329128028592095]}\n"
     ]
    }
   ],
   "source": [
    "model_id = \"AyoubChLin/Bart-MNLI-CNN_news\"\n",
    "output = get_huggingface_response(text, model_id)\n",
    "print(output)"
   ]
  },
  {
   "cell_type": "code",
   "execution_count": 9,
   "id": "3aae0480",
   "metadata": {},
   "outputs": [
    {
     "name": "stdout",
     "output_type": "stream",
     "text": [
      "{'sequence': 'Donald Trump and Joe Biden are going to Washington D.C through Malden, MA.', 'labels': ['Politics', 'Finance', 'Technology', 'Education', 'Sports', 'Miscellaneous', 'Science', 'Health', 'Entertainment'], 'scores': [0.7317978143692017, 0.046973321586847305, 0.040034763514995575, 0.03862714022397995, 0.03594597801566124, 0.034611739218235016, 0.03175630420446396, 0.023092126473784447, 0.017160825431346893]}\n"
     ]
    }
   ],
   "source": [
    "model_id = \"AyoubChLin/distilBART-mnli-cnn_news\"\n",
    "output = get_huggingface_response(text, model_id)\n",
    "print(output)"
   ]
  },
  {
   "cell_type": "code",
   "execution_count": 10,
   "id": "6fe99cdd",
   "metadata": {},
   "outputs": [
    {
     "name": "stdout",
     "output_type": "stream",
     "text": [
      "{'sequence': 'Donald Trump and Joe Biden are going to Washington D.C through Malden, MA.', 'labels': ['Politics', 'Miscellaneous', 'Entertainment', 'Health', 'Technology', 'Sports', 'Finance', 'Science', 'Education'], 'scores': [0.6302653551101685, 0.07839399576187134, 0.06512357294559479, 0.05281650274991989, 0.05032254010438919, 0.03664873540401459, 0.031257592141628265, 0.027755364775657654, 0.027416253462433815]}\n"
     ]
    }
   ],
   "source": [
    "model_id = \"navteca/bart-large-mnli\"\n",
    "output = get_huggingface_response(text, model_id)\n",
    "print(output)"
   ]
  },
  {
   "cell_type": "code",
   "execution_count": 11,
   "id": "95079d6e",
   "metadata": {},
   "outputs": [
    {
     "name": "stdout",
     "output_type": "stream",
     "text": [
      "{'error': \"Could not load model Atharva192003/zero-shot-classfier with any of the following classes: (<class 'transformers.models.bart.modeling_bart.BartForSequenceClassification'>, <class 'transformers.models.bart.modeling_tf_bart.TFBartForSequenceClassification'>).\"}\n"
     ]
    }
   ],
   "source": [
    "model_id = \"Atharva192003/zero-shot-classfier\"\n",
    "output = get_huggingface_response(text, model_id)\n",
    "print(output)"
   ]
  },
  {
   "cell_type": "code",
   "execution_count": 12,
   "id": "6e052ed9",
   "metadata": {},
   "outputs": [
    {
     "name": "stdout",
     "output_type": "stream",
     "text": [
      "[[{'label': 'news_&_social_concern', 'score': 0.9893028140068054}, {'label': 'celebrity_&_pop_culture', 'score': 0.09864410758018494}, {'label': 'film_tv_&_video', 'score': 0.02978341095149517}, {'label': 'diaries_&_daily_life', 'score': 0.019938569515943527}, {'label': 'music', 'score': 0.012862421572208405}, {'label': 'other_hobbies', 'score': 0.010894156992435455}, {'label': 'travel_&_adventure', 'score': 0.009951446205377579}, {'label': 'arts_&_culture', 'score': 0.008150645531713963}, {'label': 'business_&_entrepreneurs', 'score': 0.007779108360409737}, {'label': 'learning_&_educational', 'score': 0.004458586685359478}, {'label': 'fitness_&_health', 'score': 0.004338935948908329}, {'label': 'sports', 'score': 0.003574325004592538}, {'label': 'science_&_technology', 'score': 0.0033940498251467943}, {'label': 'family', 'score': 0.002312395488843322}, {'label': 'youth_&_student_life', 'score': 0.001936399727128446}, {'label': 'relationships', 'score': 0.001898941583931446}, {'label': 'fashion_&_style', 'score': 0.0017331673298031092}, {'label': 'food_&_dining', 'score': 0.0015632847789674997}, {'label': 'gaming', 'score': 0.00150641321670264}]]\n"
     ]
    }
   ],
   "source": [
    "def get_huggingface_response(text, model_id):\n",
    "    api_url = f\"https://api-inference.huggingface.co/models/{model_id}\"\n",
    "    headers = {\"Authorization\": f\"Bearer {HUGGINGFACE_TOKEN}\"}\n",
    "\n",
    "    payload = {\"inputs\": text, \"options\": {\"wait_for_model\": True}}\n",
    "    response = requests.post(api_url, headers=headers, json=payload)\n",
    "\n",
    "    try:\n",
    "        response = response.json()\n",
    "    except Exception:\n",
    "        print(f\"Could not get Huggingface response for {model_id}\")\n",
    "        return\n",
    "    return response\n",
    "\n",
    "model_id = \"cardiffnlp/tweet-topic-21-multi\"\n",
    "output = get_huggingface_response(text, model_id)\n",
    "print(output)"
   ]
  },
  {
   "cell_type": "code",
   "execution_count": 13,
   "id": "d124969f",
   "metadata": {},
   "outputs": [
    {
     "name": "stdout",
     "output_type": "stream",
     "text": [
      "[[{'label': 'Politics & Government', 'score': 0.9225747585296631}, {'label': 'Entertainment & Music', 'score': 0.8660039901733398}, {'label': 'Business & Finance', 'score': 0.8099157214164734}, {'label': 'Sports', 'score': 0.759965181350708}, {'label': 'Education & Reference', 'score': 0.6290696263313293}, {'label': 'Society & Culture', 'score': 0.4115256071090698}, {'label': 'Science & Mathematics', 'score': 0.19108140468597412}, {'label': 'Family & Relationships', 'score': 0.1612979918718338}, {'label': 'Computers & Internet', 'score': 0.12516619265079498}, {'label': 'Health', 'score': 0.0759524330496788}]]\n"
     ]
    }
   ],
   "source": [
    "model_id = \"jonaskoenig/topic_classification_04\"\n",
    "output = get_huggingface_response(text, model_id)\n",
    "print(output)"
   ]
  },
  {
   "cell_type": "code",
   "execution_count": 14,
   "id": "95365727",
   "metadata": {},
   "outputs": [
    {
     "name": "stdout",
     "output_type": "stream",
     "text": [
      "[[{'label': 'POLITICS', 'score': 0.9991003274917603}, {'label': 'MEDIA', 'score': 0.00035633461084216833}, {'label': 'ENTERTAINMENT', 'score': 0.00016072635480668396}, {'label': 'U.S. NEWS', 'score': 8.86702400748618e-05}, {'label': 'BUSINESS', 'score': 7.595702481921762e-05}, {'label': 'LATINO VOICES', 'score': 3.626256511779502e-05}, {'label': 'THE WORLDPOST', 'score': 2.737416980380658e-05}, {'label': 'TRAVEL', 'score': 1.9973162125097588e-05}, {'label': 'WORLD NEWS', 'score': 1.8159827959607355e-05}, {'label': 'COLLEGE', 'score': 1.5245496797433589e-05}, {'label': 'QUEER VOICES', 'score': 1.3425061297311913e-05}, {'label': 'COMEDY', 'score': 1.0361693966842722e-05}, {'label': 'RELIGION', 'score': 8.314927981700748e-06}, {'label': 'BLACK VOICES', 'score': 7.835048563720193e-06}, {'label': 'WORLDPOST', 'score': 7.050706699374132e-06}, {'label': 'WOMEN', 'score': 6.1317919062275905e-06}, {'label': 'SPORTS', 'score': 5.328267434379086e-06}, {'label': 'EDUCATION', 'score': 5.171712018636754e-06}, {'label': 'HEALTHY LIVING', 'score': 3.965103587688645e-06}, {'label': 'TECH', 'score': 3.768777560253511e-06}, {'label': 'ARTS & CULTURE', 'score': 3.7596807942463784e-06}, {'label': 'IMPACT', 'score': 3.294592943348107e-06}, {'label': 'TASTE', 'score': 3.0410869840125088e-06}, {'label': 'MONEY', 'score': 2.626595687615918e-06}, {'label': 'ENVIRONMENT', 'score': 2.3718480406387243e-06}, {'label': 'PARENTS', 'score': 2.0019892872369383e-06}, {'label': 'GREEN', 'score': 1.9612127744039753e-06}, {'label': 'STYLE', 'score': 1.4873122609060374e-06}, {'label': 'SCIENCE', 'score': 1.2574009815580212e-06}, {'label': 'FIFTY', 'score': 1.1091053693235153e-06}, {'label': 'STYLE & BEAUTY', 'score': 9.923078323481604e-07}, {'label': 'WEDDINGS', 'score': 9.869979749055346e-07}, {'label': 'CRIME', 'score': 9.481579468229029e-07}, {'label': 'WEIRD NEWS', 'score': 8.051910072026658e-07}, {'label': 'CULTURE & ARTS', 'score': 6.418293310161971e-07}, {'label': 'WELLNESS', 'score': 4.4851114466837316e-07}, {'label': 'PARENTING', 'score': 4.1857418864310603e-07}, {'label': 'FOOD & DRINK', 'score': 3.689978029797203e-07}, {'label': 'HOME & LIVING', 'score': 3.215118624666502e-07}, {'label': 'ARTS', 'score': 2.9701487846978125e-07}, {'label': 'GOOD NEWS', 'score': 2.952306488168688e-07}, {'label': 'DIVORCE', 'score': 2.9346384167183714e-07}]]\n"
     ]
    }
   ],
   "source": [
    "model_id = \"Yueh-Huan/news-category-classification-distilbert\"\n",
    "output = get_huggingface_response(text, model_id)\n",
    "print(output)"
   ]
  },
  {
   "cell_type": "code",
   "execution_count": 15,
   "id": "25b30889",
   "metadata": {},
   "outputs": [
    {
     "name": "stdout",
     "output_type": "stream",
     "text": [
      "[[{'label': 'POLITICS', 'score': 0.9991003274917603}, {'label': 'MEDIA', 'score': 0.00035633461084216833}, {'label': 'ENTERTAINMENT', 'score': 0.00016072635480668396}, {'label': 'U.S. NEWS', 'score': 8.86702400748618e-05}, {'label': 'BUSINESS', 'score': 7.595702481921762e-05}, {'label': 'LATINO VOICES', 'score': 3.626256511779502e-05}, {'label': 'THE WORLDPOST', 'score': 2.737416980380658e-05}, {'label': 'TRAVEL', 'score': 1.9973162125097588e-05}, {'label': 'WORLD NEWS', 'score': 1.8159827959607355e-05}, {'label': 'COLLEGE', 'score': 1.5245496797433589e-05}, {'label': 'QUEER VOICES', 'score': 1.3425061297311913e-05}, {'label': 'COMEDY', 'score': 1.0361693966842722e-05}, {'label': 'RELIGION', 'score': 8.314927981700748e-06}, {'label': 'BLACK VOICES', 'score': 7.835048563720193e-06}, {'label': 'WORLDPOST', 'score': 7.050706699374132e-06}, {'label': 'WOMEN', 'score': 6.1317919062275905e-06}, {'label': 'SPORTS', 'score': 5.328267434379086e-06}, {'label': 'EDUCATION', 'score': 5.171712018636754e-06}, {'label': 'HEALTHY LIVING', 'score': 3.965103587688645e-06}, {'label': 'TECH', 'score': 3.768777560253511e-06}, {'label': 'ARTS & CULTURE', 'score': 3.7596807942463784e-06}, {'label': 'IMPACT', 'score': 3.294592943348107e-06}, {'label': 'TASTE', 'score': 3.0410869840125088e-06}, {'label': 'MONEY', 'score': 2.626595687615918e-06}, {'label': 'ENVIRONMENT', 'score': 2.3718480406387243e-06}, {'label': 'PARENTS', 'score': 2.0019892872369383e-06}, {'label': 'GREEN', 'score': 1.9612127744039753e-06}, {'label': 'STYLE', 'score': 1.4873122609060374e-06}, {'label': 'SCIENCE', 'score': 1.2574009815580212e-06}, {'label': 'FIFTY', 'score': 1.1091053693235153e-06}, {'label': 'STYLE & BEAUTY', 'score': 9.923078323481604e-07}, {'label': 'WEDDINGS', 'score': 9.869979749055346e-07}, {'label': 'CRIME', 'score': 9.481579468229029e-07}, {'label': 'WEIRD NEWS', 'score': 8.051910072026658e-07}, {'label': 'CULTURE & ARTS', 'score': 6.418293310161971e-07}, {'label': 'WELLNESS', 'score': 4.4851114466837316e-07}, {'label': 'PARENTING', 'score': 4.1857418864310603e-07}, {'label': 'FOOD & DRINK', 'score': 3.689978029797203e-07}, {'label': 'HOME & LIVING', 'score': 3.215118624666502e-07}, {'label': 'ARTS', 'score': 2.9701487846978125e-07}, {'label': 'GOOD NEWS', 'score': 2.952306488168688e-07}, {'label': 'DIVORCE', 'score': 2.9346384167183714e-07}]]\n"
     ]
    }
   ],
   "source": [
    "model_id = \"Yueh-Huan/news-category-classification-distilbert\"\n",
    "output = get_huggingface_response(text, model_id)\n",
    "print(output)"
   ]
  }
 ],
 "metadata": {
  "kernelspec": {
   "display_name": "social-signals-env",
   "language": "python",
   "name": "social-signals-env"
  },
  "language_info": {
   "codemirror_mode": {
    "name": "ipython",
    "version": 3
   },
   "file_extension": ".py",
   "mimetype": "text/x-python",
   "name": "python",
   "nbconvert_exporter": "python",
   "pygments_lexer": "ipython3",
   "version": "3.8.16"
  }
 },
 "nbformat": 4,
 "nbformat_minor": 5
}
